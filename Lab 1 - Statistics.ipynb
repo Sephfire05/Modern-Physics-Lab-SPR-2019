{
 "cells": [
  {
   "cell_type": "markdown",
   "metadata": {},
   "source": [
    "# Statistics"
   ]
  },
  {
   "cell_type": "code",
   "execution_count": 1,
   "metadata": {},
   "outputs": [],
   "source": [
    "# Creating arrays of numbers\n",
    "# Importing numpy for array manipulations\n",
    "import numpy as np\n",
    "\n",
    "one10   = np.array([1,0,4,2,3,4,0,1,4,3])\n",
    "two10   = np.array([5,3,5,0,6,3,1,3,0,2])\n",
    "three10 = np.array([4,0,0,0,6,4,2,0,6,4])\n",
    "four10  = np.array([2,8,4,1,6,4,3,5,4,4])\n",
    "five10  = np.array([2,2,1,4,5,4,6,2,8,1])\n",
    "six10   = np.array([0,1,0,0,1,0,1,6,5,3])\n",
    "seven10 = np.array([1,6,4,4,2,1,4,3,5,6])\n",
    "eight10 = np.array([5,5,2,0,6,5,1,3,2,5])\n",
    "nine10  = np.array([1,3,6,3,3,0,1,6,4,3])\n",
    "ten10   = np.array([4,5,0,2,0,5,4,0,7,5])"
   ]
  },
  {
   "cell_type": "code",
   "execution_count": 2,
   "metadata": {},
   "outputs": [
    {
     "data": {
      "text/plain": [
       "(array([0, 1, 2, 3, 4]), array([2, 2, 1, 2, 3]))"
      ]
     },
     "execution_count": 2,
     "metadata": {},
     "output_type": "execute_result"
    }
   ],
   "source": [
    "# Bar Chart of frequency of values\n",
    "np.unique(one10, return_counts=True)"
   ]
  },
  {
   "cell_type": "code",
   "execution_count": 3,
   "metadata": {},
   "outputs": [],
   "source": [
    "#data = np.ndarray(one10,two10,three10,four10,five10,six10,seven10,eight10,nine10,ten10)\n",
    "### np.stack(one10,two10,three10\n",
    "#                        ,four10,five10,six10\n",
    "#                        ,seven10,eight10,nine10\n",
    "#                        ,ten10)\n",
    "\n",
    "# This won't work as data because of ndarrays 6 arguments method"
   ]
  },
  {
   "cell_type": "code",
   "execution_count": 4,
   "metadata": {},
   "outputs": [
    {
     "data": {
      "text/plain": [
       "array([ 1,  2,  3,  4,  5,  6,  7,  8,  9, 10])"
      ]
     },
     "execution_count": 4,
     "metadata": {},
     "output_type": "execute_result"
    }
   ],
   "source": [
    "data = {1:one10, 2:two10, 3:three10, 4:four10,5:five10,6:six10,7:seven10,8:eight10\n",
    "       ,9:nine10,10:ten10}\n",
    "#Trials = [list(range([0,10,1]))]\n",
    "#Trials\n",
    "# Wouldn't work properly, using Numpy range\n",
    "Trials = np.arange(1,11)\n",
    "Trials\n",
    "# passed data as a dictionary for pandas"
   ]
  },
  {
   "cell_type": "code",
   "execution_count": 94,
   "metadata": {},
   "outputs": [
    {
     "name": "stdout",
     "output_type": "stream",
     "text": [
      "    1   2   3   4   5   6   7   8   9   10\n",
      "1    1   5   4   2   2   0   1   5   1   4\n",
      "2    0   3   0   8   2   1   6   5   3   5\n",
      "3    4   5   0   4   1   0   4   2   6   0\n",
      "4    2   0   0   1   4   0   4   0   3   2\n",
      "5    3   6   6   6   5   1   2   6   3   0\n",
      "6    4   3   4   4   4   0   1   5   0   5\n",
      "7    0   1   2   3   6   1   4   1   1   4\n",
      "8    1   3   0   5   2   6   3   3   6   0\n",
      "9    4   0   6   4   8   5   5   2   4   7\n",
      "10   3   2   4   4   1   3   6   5   3   5\n",
      "              1    2    3    4    5    6    7    8    9    10\n",
      "1            1.0  5.0  4.0  2.0  2.0  0.0  1.0  5.0  1.0  4.0\n",
      "2            0.0  3.0  0.0  8.0  2.0  1.0  6.0  5.0  3.0  5.0\n",
      "3            4.0  5.0  0.0  4.0  1.0  0.0  4.0  2.0  6.0  0.0\n",
      "4            2.0  0.0  0.0  1.0  4.0  0.0  4.0  0.0  3.0  2.0\n",
      "5            3.0  6.0  6.0  6.0  5.0  1.0  2.0  6.0  3.0  0.0\n",
      "6            4.0  3.0  4.0  4.0  4.0  0.0  1.0  5.0  0.0  5.0\n",
      "7            0.0  1.0  2.0  3.0  6.0  1.0  4.0  1.0  1.0  4.0\n",
      "8            1.0  3.0  0.0  5.0  2.0  6.0  3.0  3.0  6.0  0.0\n",
      "9            4.0  0.0  6.0  4.0  8.0  5.0  5.0  2.0  4.0  7.0\n",
      "10           3.0  2.0  4.0  4.0  1.0  3.0  6.0  5.0  3.0  5.0\n",
      "Average Sum  2.2  2.8  2.6  4.1  3.5  1.7  3.6  3.4  3.0  3.2\n",
      "[[1 5 4 2 2 0 1 5 1 4]\n",
      " [0 3 0 8 2 1 6 5 3 5]\n",
      " [4 5 0 4 1 0 4 2 6 0]\n",
      " [2 0 0 1 4 0 4 0 3 2]\n",
      " [3 6 6 6 5 1 2 6 3 0]\n",
      " [4 3 4 4 4 0 1 5 0 5]\n",
      " [0 1 2 3 6 1 4 1 1 4]\n",
      " [1 3 0 5 2 6 3 3 6 0]\n",
      " [4 0 6 4 8 5 5 2 4 7]\n",
      " [3 2 4 4 1 3 6 5 3 5]]\n"
     ]
    }
   ],
   "source": [
    "import pandas as pd\n",
    "\n",
    "df = pd.DataFrame.from_dict(data, dtype='int8').astype(int)\n",
    "df.index = data.keys()\n",
    "print(df)\n",
    "df.loc['Average Sum'] = df.mean().astype(float)\n",
    "print(df)\n",
    "# print(numdf.to_numpy)\n",
    "# named a new df just for simplification\n",
    "#d2values = []\n",
    "# for value in df.values()\n",
    "print(numdf.values)"
   ]
  },
  {
   "cell_type": "code",
   "execution_count": 74,
   "metadata": {},
   "outputs": [
    {
     "name": "stdout",
     "output_type": "stream",
     "text": [
      "{0: 17, 1: 14, 2: 11, 3: 13, 4: 18, 5: 13, 6: 11, 7: 1, 8: 2, 9: 0, 10: 0}\n"
     ]
    }
   ],
   "source": [
    "# Creating 2nd dataframe using value counts from original\n",
    "d2keys = []\n",
    "data2 = {}\n",
    "for i in range(11):\n",
    "    j = 0\n",
    "    d2keys.append(i)\n",
    "    # x =  np.unique(numdf.to_numpy(), return_counts = True)\n",
    "    j = numdf[numdf == i].count().sum()\n",
    "    data2[i] = j\n",
    "#    for j in range(9):\n",
    "#        data2[j] = x[j][j] \n",
    "# works perfectly for filling in d2keys and implementing them as keys   \n",
    "print(data2)"
   ]
  },
  {
   "cell_type": "markdown",
   "metadata": {},
   "source": [
    "# Spare Code\n",
    "elements = numdf.to_numpy()\n",
    "x = np.unique(elements, return_counts=True)\n",
    "print(x)\n",
    "#elements2 = pd.Series(data=([sorted(elements.value_counts())]))\n",
    "#elements2\n",
    "\n",
    "j = numdf[numdf == 2].count().sum()\n",
    "print(j)"
   ]
  },
  {
   "cell_type": "code",
   "execution_count": 96,
   "metadata": {},
   "outputs": [
    {
     "name": "stdout",
     "output_type": "stream",
     "text": [
      "100\n"
     ]
    },
    {
     "data": {
      "text/plain": [
       "0     17\n",
       "1     14\n",
       "2     11\n",
       "3     13\n",
       "4     18\n",
       "5     13\n",
       "6     11\n",
       "7      1\n",
       "8      2\n",
       "9      0\n",
       "10     0\n",
       "dtype: int64"
      ]
     },
     "execution_count": 96,
     "metadata": {},
     "output_type": "execute_result"
    }
   ],
   "source": [
    "import matplotlib.pyplot as plt\n",
    "freq = pd.Series(data2)\n",
    "print(freq.sum())\n",
    "freq"
   ]
  },
  {
   "cell_type": "code",
   "execution_count": 83,
   "metadata": {},
   "outputs": [
    {
     "data": {
      "text/plain": [
       "Text(0.5, 0, 'Drop Counts')"
      ]
     },
     "execution_count": 83,
     "metadata": {},
     "output_type": "execute_result"
    },
    {
     "data": {
      "image/png": "[encoded data removed]",
      "text/plain": [
       "<Figure size 432x288 with 1 Axes>"
      ]
     },
     "metadata": {
      "needs_background": "light"
     },
     "output_type": "display_data"
    }
   ],
   "source": [
    "plt.figure()\n",
    "ax = freq.plot(kind='area', title='Value Frequencies',xticks=(list(range(0,11))), yticks=(list(range(0,21,2))))\n",
    "ax.set_ylabel('Frequency')\n",
    "ax.set_xlabel('Drop Counts')"
   ]
  },
  {
   "cell_type": "code",
   "execution_count": null,
   "metadata": {},
   "outputs": [],
   "source": []
  }
 ],
 "metadata": {
  "kernelspec": {
   "display_name": "Python 3",
   "language": "python",
   "name": "python3"
  },
  "language_info": {
   "codemirror_mode": {
    "name": "ipython",
    "version": 3
   },
   "file_extension": ".py",
   "mimetype": "text/x-python",
   "name": "python",
   "nbconvert_exporter": "python",
   "pygments_lexer": "ipython3",
   "version": "3.7.2"
  }
 },
 "nbformat": 4,
 "nbformat_minor": 2
}
