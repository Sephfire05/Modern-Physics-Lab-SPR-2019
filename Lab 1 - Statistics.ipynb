{
 "cells": [
  {
   "cell_type": "code",
   "execution_count": 4,
   "metadata": {},
   "outputs": [],
   "source": [
    "# Creating arrays of numbers\n",
    "# Importing numpy for array manipulations\n",
    "import numpy as np\n",
    "\n",
    "one10   = np.array([1,0,4,2,3,4,0,1,4,3])\n",
    "two10   = np.array([5,3,5,0,6,3,1,3,0,2])\n",
    "three10 = np.array([4,0,0,0,6,4,2,0,6,4])\n",
    "four10  = np.array([2,8,4,1,6,4,3,5,4,4])\n",
    "five10  = np.array([2,2,1,4,5,4,6,2,8,1])\n",
    "six10   = np.array([0,1,0,0,1,0,1,6,5,3])\n",
    "seven10 = np.array([1,6,4,4,2,1,4,3,5,6])\n",
    "eight10 = np.array([5,5,2,0,6,5,1,3,2,5])\n",
    "nine10  = np.array([1,3,6,3,3,0,1,6,4,3])\n",
    "ten10   = np.array([4,5,0,2,0,5,4,0,7,5])\n"
   ]
  },
  {
   "cell_type": "code",
   "execution_count": 5,
   "metadata": {},
   "outputs": [
    {
     "data": {
      "text/plain": [
       "(array([0, 1, 2, 3, 4]), array([2, 2, 1, 2, 3]))"
      ]
     },
     "execution_count": 5,
     "metadata": {},
     "output_type": "execute_result"
    }
   ],
   "source": [
    "# Bar Chart of frequency of values\n",
    "np.unique(one10, return_counts=True)"
   ]
  },
  {
   "cell_type": "code",
   "execution_count": 7,
   "metadata": {},
   "outputs": [
    {
     "ename": "TypeError",
     "evalue": "stack() takes from 1 to 3 positional arguments but 10 were given",
     "output_type": "error",
     "traceback": [
      "\u001b[0;31m---------------------------------------------------------------------------\u001b[0m",
      "\u001b[0;31mTypeError\u001b[0m                                 Traceback (most recent call last)",
      "\u001b[0;32m<ipython-input-7-e092702264b9>\u001b[0m in \u001b[0;36m<module>\u001b[0;34m\u001b[0m\n\u001b[1;32m      2\u001b[0m                         \u001b[0;34m,\u001b[0m\u001b[0mfour10\u001b[0m\u001b[0;34m,\u001b[0m\u001b[0mfive10\u001b[0m\u001b[0;34m,\u001b[0m\u001b[0msix10\u001b[0m\u001b[0;34m\u001b[0m\u001b[0;34m\u001b[0m\u001b[0m\n\u001b[1;32m      3\u001b[0m                         \u001b[0;34m,\u001b[0m\u001b[0mseven10\u001b[0m\u001b[0;34m,\u001b[0m\u001b[0meight10\u001b[0m\u001b[0;34m,\u001b[0m\u001b[0mnine10\u001b[0m\u001b[0;34m\u001b[0m\u001b[0;34m\u001b[0m\u001b[0m\n\u001b[0;32m----> 4\u001b[0;31m                         ,ten10)\n\u001b[0m",
      "\u001b[0;31mTypeError\u001b[0m: stack() takes from 1 to 3 positional arguments but 10 were given"
     ]
    }
   ],
   "source": [
    "rawdata = np.stack(one10,two10,three10\n",
    "                        ,four10,five10,six10\n",
    "                        ,seven10,eight10,nine10\n",
    "                        ,ten10)"
   ]
  },
  {
   "cell_type": "code",
   "execution_count": null,
   "metadata": {},
   "outputs": [],
   "source": []
  }
 ],
 "metadata": {
  "kernelspec": {
   "display_name": "Python 3",
   "language": "python",
   "name": "python3"
  },
  "language_info": {
   "codemirror_mode": {
    "name": "ipython",
    "version": 3
   },
   "file_extension": ".py",
   "mimetype": "text/x-python",
   "name": "python",
   "nbconvert_exporter": "python",
   "pygments_lexer": "ipython3",
   "version": "3.7.1"
  }
 },
 "nbformat": 4,
 "nbformat_minor": 2
}
