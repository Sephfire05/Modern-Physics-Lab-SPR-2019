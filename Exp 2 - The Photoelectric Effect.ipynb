{
 "cells": [
  {
   "cell_type": "code",
   "execution_count": 3,
   "metadata": {},
   "outputs": [],
   "source": [
    "# Jason Luera\n",
    "# Modern Physics Lab SPR 2019"
   ]
  },
  {
   "cell_type": "code",
   "execution_count": 4,
   "metadata": {},
   "outputs": [
    {
     "name": "stdout",
     "output_type": "stream",
     "text": [
      "[4.7e-07 5.4e-07 5.7e-07 6.0e-07 6.4e-07]\n",
      "['Trial' '4.7e-07' '5.4e-07' '5.7e-07' '6e-07' '6.4e-07']\n",
      "[1.    0.583 0.41  0.335 0.357 0.399]\n",
      "[2.    0.448 0.448 0.409 0.484 0.515]\n",
      "[3.    0.386 0.386 0.35  0.331 0.344]\n"
     ]
    }
   ],
   "source": [
    "# Importing Libraries\n",
    "import numpy as np\n",
    "import pandas as pd\n",
    "\n",
    "xaxes = np.array([470, 540, 570, 600, 640])\n",
    "cor_xaxes = np.multiply(xaxes,1e-9)\n",
    "print(cor_xaxes)\n",
    "\n",
    "labels = np.array(['Trial', 4.7e-07, 5.4e-07, 5.7e-07, 6.0e-07, 6.4e-07])\n",
    "Trial1= np.array([1, 0.583, 0.410, 0.335, 0.357, 0.399])\n",
    "Trial2= np.array([2, 0.448, 0.448, 0.409, 0.484, 0.515])\n",
    "Trial3= np.array([3, 0.386, 0.386, 0.350, 0.331, 0.344])\n",
    "\n",
    "\n",
    "print(labels)\n",
    "print(Trial1)\n",
    "print(Trial2)\n",
    "print(Trial3)\n",
    "# All print statements show correct amount of numbers in each row."
   ]
  },
  {
   "cell_type": "code",
   "execution_count": 5,
   "metadata": {},
   "outputs": [
    {
     "data": {
      "text/html": [
       "<div>\n",
       "<style scoped>\n",
       "    .dataframe tbody tr th:only-of-type {\n",
       "        vertical-align: middle;\n",
       "    }\n",
       "\n",
       "    .dataframe tbody tr th {\n",
       "        vertical-align: top;\n",
       "    }\n",
       "\n",
       "    .dataframe thead th {\n",
       "        text-align: right;\n",
       "    }\n",
       "</style>\n",
       "<table border=\"1\" class=\"dataframe\">\n",
       "  <thead>\n",
       "    <tr style=\"text-align: right;\">\n",
       "      <th></th>\n",
       "      <th>470nm</th>\n",
       "      <th>540nm</th>\n",
       "      <th>570nm</th>\n",
       "      <th>600nm</th>\n",
       "      <th>640nm</th>\n",
       "    </tr>\n",
       "    <tr>\n",
       "      <th>Trial</th>\n",
       "      <th></th>\n",
       "      <th></th>\n",
       "      <th></th>\n",
       "      <th></th>\n",
       "      <th></th>\n",
       "    </tr>\n",
       "  </thead>\n",
       "  <tbody>\n",
       "    <tr>\n",
       "      <th>1.0</th>\n",
       "      <td>0.583</td>\n",
       "      <td>0.410</td>\n",
       "      <td>0.335</td>\n",
       "      <td>0.357</td>\n",
       "      <td>0.399</td>\n",
       "    </tr>\n",
       "    <tr>\n",
       "      <th>2.0</th>\n",
       "      <td>0.448</td>\n",
       "      <td>0.448</td>\n",
       "      <td>0.409</td>\n",
       "      <td>0.484</td>\n",
       "      <td>0.515</td>\n",
       "    </tr>\n",
       "    <tr>\n",
       "      <th>3.0</th>\n",
       "      <td>0.386</td>\n",
       "      <td>0.386</td>\n",
       "      <td>0.350</td>\n",
       "      <td>0.331</td>\n",
       "      <td>0.344</td>\n",
       "    </tr>\n",
       "  </tbody>\n",
       "</table>\n",
       "</div>"
      ],
      "text/plain": [
       "       470nm  540nm  570nm  600nm  640nm\n",
       "Trial                                   \n",
       "1.0    0.583  0.410  0.335  0.357  0.399\n",
       "2.0    0.448  0.448  0.409  0.484  0.515\n",
       "3.0    0.386  0.386  0.350  0.331  0.344"
      ]
     },
     "execution_count": 5,
     "metadata": {},
     "output_type": "execute_result"
    }
   ],
   "source": [
    "# Setting as DataFrame with no index and data as separate arrays.\n",
    "df = pd.DataFrame(data=(Trial1,Trial2,Trial3), columns = labels).set_index('Trial')\n",
    "df.columns = ['470nm', '540nm', '570nm', '600nm', '640nm']\n",
    "# Data has been set into a Pandas DataFrame for viewability.\n",
    "df\n",
    "# Dropping index column with .drop\n",
    "# Tried to declare column as index\n",
    "# sTrials = pd.Series(df.columns['Trial'])\n",
    "# df1 = df.set_index('Trial')\n",
    "# df1\n",
    "# Closest I could get to dropping index column"
   ]
  },
  {
   "cell_type": "markdown",
   "metadata": {},
   "source": [
    "## What do I do with these results?\n",
    "* What are some relevant trends of my data?\n",
    "    * Can I put this in a graph?\n",
    "* What do my formulas say about how the data reacts?"
   ]
  },
  {
   "cell_type": "markdown",
   "metadata": {},
   "source": [
    "## Lab Objective\n",
    "* Use the photoelectric effect to obtain data for stopping voltage and wavelength so that Planck's constant can be experimmentally determined."
   ]
  },
  {
   "cell_type": "markdown",
   "metadata": {},
   "source": [
    "### Formulas and Theories\n",
    "* E = (hc / lambda)\n",
    "    * Thus\n",
    "        * e(V + O/) = (hc / lambda)\n",
    "* The experiment measures to point where the stopping potential just equals the work function of the metal so that\n",
    "    * V = (hc/e)(1/lambda)\n",
    "* Planck's constant then can be determined using the value obtained from the slope of the line. \n",
    "    * Plot of V vs (1/lambda)"
   ]
  },
  {
   "cell_type": "markdown",
   "metadata": {},
   "source": [
    "## Analysis of the data finding Planck's Constant.\n",
    "* Graph Stopping voltage vs 1/lambda.\n",
    "    * Don't forget error bars.\n",
    "    * You should have a best and worst fit line so that you may obtain your best estimate of the slope and its uncertainty.\n",
    "* Use nm^-1 for the x-axis for higher accuracy\n",
    "* Obtain a least squares value for the slope (In Statistics Lab)\n",
    "* The slope's value for Planck's Constant can be determined after a bit of algebraic manipulation."
   ]
  },
  {
   "cell_type": "code",
   "execution_count": 28,
   "metadata": {},
   "outputs": [
    {
     "name": "stdout",
     "output_type": "stream",
     "text": [
      "[2127659.57446809 1851851.85185185 1754385.96491228 1666666.66666667\n",
      " 1562500.        ]\n"
     ]
    }
   ],
   "source": [
    "# Importing matplotlib for low level visualization.\n",
    "import matplotlib.pyplot as plt\n",
    "df\n",
    "labels = np.array([4.7e-07, 5.4e-07, 5.7e-07, 6.0e-07, 6.4e-07])\n",
    "inverselabels = 1 / labels\n",
    "print(inverselabels)\n"
   ]
  },
  {
   "cell_type": "code",
   "execution_count": 7,
   "metadata": {
    "scrolled": true
   },
   "outputs": [
    {
     "name": "stdout",
     "output_type": "stream",
     "text": [
      "The lowest value is: 0.331\n",
      "The highest value is: 0.583\n",
      "The total range should be from .3 to .6 with the step of .5\n",
      "The domain should be: 4.7000000000000005e-07 to: 6.4e-07 .\n"
     ]
    }
   ],
   "source": [
    "# Getting plot information here\n",
    "print(\"The lowest value is:\", df.values.min())\n",
    "print(\"The highest value is:\", df.values.max())\n",
    "print(\"The total range should be from .3 to .6 with the step of .5\")\n",
    "print(\"The domain should be:\",cor_xaxes[0],\"to:\",cor_xaxes[-1],\".\")"
   ]
  },
  {
   "cell_type": "code",
   "execution_count": 26,
   "metadata": {},
   "outputs": [
    {
     "data": {
      "text/plain": [
       "array([<matplotlib.axes._subplots.AxesSubplot object at 0x7f02978dbeb8>,\n",
       "       <matplotlib.axes._subplots.AxesSubplot object at 0x7f0297853470>,\n",
       "       <matplotlib.axes._subplots.AxesSubplot object at 0x7f02977fa8d0>],\n",
       "      dtype=object)"
      ]
     },
     "execution_count": 26,
     "metadata": {},
     "output_type": "execute_result"
    },
    {
     "data": {
      "image/png": "[encoded data removed]",
      "text/plain": [
       "<Figure size 432x288 with 3 Axes>"
      ]
     },
     "metadata": {
      "needs_background": "light"
     },
     "output_type": "display_data"
    }
   ],
   "source": [
    "# Plotting with pandas\n",
    "df1 = df.copy()\n",
    "df1.T\n",
    "df1.T.plot(subplots=True, title='Voltage vs Wavelength')"
   ]
  },
  {
   "cell_type": "code",
   "execution_count": 39,
   "metadata": {},
   "outputs": [
    {
     "data": {
      "text/plain": [
       "470nm    0.583\n",
       "540nm    0.410\n",
       "570nm    0.335\n",
       "600nm    0.357\n",
       "640nm    0.399\n",
       "Name: 1.0, dtype: float64"
      ]
     },
     "execution_count": 39,
     "metadata": {},
     "output_type": "execute_result"
    }
   ],
   "source": [
    "df1['470nm']\n",
    "df1.loc[1.0]"
   ]
  },
  {
   "cell_type": "code",
   "execution_count": 65,
   "metadata": {},
   "outputs": [
    {
     "data": {
      "text/plain": [
       "Text(0.5, 1.0, 'Voltage vs 1/wavelength')"
      ]
     },
     "execution_count": 65,
     "metadata": {},
     "output_type": "execute_result"
    },
    {
     "data": {
      "image/png": "[encoded data removed]",
      "text/plain": [
       "<Figure size 432x288 with 2 Axes>"
      ]
     },
     "metadata": {
      "needs_background": "light"
     },
     "output_type": "display_data"
    }
   ],
   "source": [
    "# Plotting with MatLab\n",
    "s1 = pd.Series(df1['470nm'])\n",
    "plt.figure(1)\n",
    "plt.subplot(211)\n",
    "plt.plot(inverselabels, df1.loc[1.0])\n",
    "plt.subplot(212)\n",
    "plt.plot(inverselabels, df1.loc[2.0])\n",
    "#plt.subplot(213)\n",
    "#plt.plot(inverselabels, df1.loc[3.0])\n",
    "\n",
    "plt.title('Voltage vs 1/wavelength')\n",
    "# Can only get two subplots to work"
   ]
  },
  {
   "cell_type": "code",
   "execution_count": 86,
   "metadata": {},
   "outputs": [
    {
     "ename": "IndexError",
     "evalue": "too many indices for array",
     "output_type": "error",
     "traceback": [
      "\u001b[0;31m---------------------------------------------------------------------------\u001b[0m",
      "\u001b[0;31mIndexError\u001b[0m                                Traceback (most recent call last)",
      "\u001b[0;32m<ipython-input-86-2e4edf2ba6c2>\u001b[0m in \u001b[0;36m<module>\u001b[0;34m\u001b[0m\n\u001b[1;32m     12\u001b[0m \u001b[0;32mfor\u001b[0m \u001b[0max\u001b[0m \u001b[0;32min\u001b[0m \u001b[0maxarr\u001b[0m\u001b[0;34m.\u001b[0m\u001b[0mflat\u001b[0m\u001b[0;34m:\u001b[0m\u001b[0;34m\u001b[0m\u001b[0;34m\u001b[0m\u001b[0m\n\u001b[1;32m     13\u001b[0m     \u001b[0max\u001b[0m\u001b[0;34m.\u001b[0m\u001b[0mset\u001b[0m\u001b[0;34m(\u001b[0m\u001b[0mxlabel\u001b[0m\u001b[0;34m=\u001b[0m\u001b[0;34mr'1/$\\lambda$'\u001b[0m\u001b[0;34m,\u001b[0m \u001b[0mylabel\u001b[0m\u001b[0;34m=\u001b[0m\u001b[0;34m'Voltage'\u001b[0m\u001b[0;34m)\u001b[0m\u001b[0;34m\u001b[0m\u001b[0;34m\u001b[0m\u001b[0m\n\u001b[0;32m---> 14\u001b[0;31m \u001b[0maxarr\u001b[0m\u001b[0;34m[\u001b[0m\u001b[0;36m0\u001b[0m\u001b[0;34m,\u001b[0m \u001b[0;36m0\u001b[0m\u001b[0;34m]\u001b[0m\u001b[0;34m.\u001b[0m\u001b[0mset_title\u001b[0m\u001b[0;34m(\u001b[0m\u001b[0;34m'Trial 1'\u001b[0m\u001b[0;34m)\u001b[0m\u001b[0;34m\u001b[0m\u001b[0;34m\u001b[0m\u001b[0m\n\u001b[0m",
      "\u001b[0;31mIndexError\u001b[0m: too many indices for array"
     ]
    },
    {
     "data": {
      "image/png": "[encoded data removed]",
      "text/plain": [
       "<Figure size 432x288 with 3 Axes>"
      ]
     },
     "metadata": {
      "needs_background": "light"
     },
     "output_type": "display_data"
    }
   ],
   "source": [
    "f, axarr = plt.subplots(3, sharex=True, sharey=True)\n",
    "f.suptitle(r'Voltage vs 1/$\\lambda$')\n",
    "axarr[0].plot(inverselabels, df1.loc[1.0])\n",
    "axarr[1].plot(inverselabels, df1.loc[2.0])\n",
    "axarr[2].plot(inverselabels, df1.loc[3.0])\n",
    "# Bring the subplots closer to each other\n",
    "f.subplots_adjust(hspace=0)\n",
    "pltxlabels = ['470nm', '540nm', '570nm', '600nm', '640nm']\n",
    "# pltxlabels1 = ['640nm', '600nm', '570nm', '540nm', '470nm']\n",
    "plt.xticks(inverselabels, pltxlabels, rotation='vertical')\n",
    "# Setting common labels\n",
    "for ax in axarr.flat:\n",
    "    ax.set(xlabel=r'1/$\\lambda$', ylabel='Voltage')\n",
    "axarr[0, 0].set_title('Trial 1')"
   ]
  },
  {
   "cell_type": "code",
   "execution_count": null,
   "metadata": {},
   "outputs": [],
   "source": []
  }
 ],
 "metadata": {
  "kernelspec": {
   "display_name": "Python 3",
   "language": "python",
   "name": "python3"
  },
  "language_info": {
   "codemirror_mode": {
    "name": "ipython",
    "version": 3
   },
   "file_extension": ".py",
   "mimetype": "text/x-python",
   "name": "python",
   "nbconvert_exporter": "python",
   "pygments_lexer": "ipython3",
   "version": "3.7.2"
  }
 },
 "nbformat": 4,
 "nbformat_minor": 2
}
